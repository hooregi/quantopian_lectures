{
 "cells": [
  {
   "cell_type": "markdown",
   "source": [
    "# 6. QLS - Means\n",
    "\n",
    "## Measures of Central Tendency\n",
    "\n",
    "Here we'll discuss ways to summarize a set of data using a single number to capture information about the distribution of data."
   ],
   "metadata": {
    "collapsed": false
   }
  },
  {
   "cell_type": "code",
   "execution_count": 1,
   "outputs": [],
   "source": [
    "import numpy as np\n",
    "import scipy.stats as stats\n",
    "import yfinance as yf"
   ],
   "metadata": {
    "collapsed": false,
    "ExecuteTime": {
     "end_time": "2023-07-28T19:12:36.250460272Z",
     "start_time": "2023-07-28T19:12:35.738876487Z"
    }
   }
  },
  {
   "cell_type": "markdown",
   "source": [
    "### Arithmetic Mean\n",
    "\n",
    "It's used to summarize numerical data, and it's commonly referred to as \"average\". It's defined as the sum of the observations divided by the number of observations.\n",
    "\n",
    "$\\mu = \\frac{\\sum_{i=1}^{N} X_{i}}{N}$ where $X_{1}, X_{2}, \\ldots, X_{N}$ are our observations."
   ],
   "metadata": {
    "collapsed": false
   }
  },
  {
   "cell_type": "code",
   "execution_count": 2,
   "outputs": [
    {
     "name": "stdout",
     "output_type": "stream",
     "text": [
      "Mean of x1: 29 / 8 = 3.625\n",
      "Mean of x2: 129 / 9 = 14.333333333333334\n"
     ]
    }
   ],
   "source": [
    "x1 = [1, 2, 2, 3, 4, 5, 5, 7]\n",
    "x2 = x1 + [100]\n",
    "\n",
    "print(\"Mean of x1:\", sum(x1), \"/\", len(x1), \"=\", np.mean(x1))\n",
    "print(\"Mean of x2:\", sum(x2), \"/\", len(x2), \"=\", np.mean(x2))"
   ],
   "metadata": {
    "collapsed": false,
    "ExecuteTime": {
     "end_time": "2023-07-28T19:12:36.258877335Z",
     "start_time": "2023-07-28T19:12:35.841364173Z"
    }
   }
  },
  {
   "cell_type": "markdown",
   "source": [
    "We can use a weighted arithmetic mean, which is useful to specify the number of times each observation is counted.\n",
    "\n",
    "For example, if you want to get the value of a portfolio it's easier to say that 70% of the equities are of type X rather than making a list of every share.\n",
    "\n",
    "The weighted arithmetic mean is defined as $\\sum_{i=1}^{n} w_{i} X_{i}$ where $\\sum_{i=1}^{n} w_{i} = 1$. In the standard arithmetic mean, we have $w_{i} = \\frac{1}{n}$ for all $i$.\n",
    "\n",
    "#### Median\n",
    "\n",
    "The median of a data set is the number which appears in the middle when sorted by increasing/decreasing order. When we have an odd number of $n$ data points, we get $\\frac{(n=1)}{2}$. When we have an even number, it splits the list in half, so we have no middle item; we define the median as the average of the values in positions $\\frac{n}{2}$ and $\\frac{(n+2)}{2}$.\n",
    "\n",
    "The median is less affected by extreme values in the data than the arithmetic mean. It shows the value that splits the data in half, but not how much smaller/larger the other values are."
   ],
   "metadata": {
    "collapsed": false
   }
  },
  {
   "cell_type": "code",
   "execution_count": 3,
   "outputs": [
    {
     "name": "stdout",
     "output_type": "stream",
     "text": [
      "Median of x1: 3.5\n",
      "Median of x2: 4.0\n"
     ]
    }
   ],
   "source": [
    "print(\"Median of x1:\", np.median(x1))\n",
    "print(\"Median of x2:\", np.median(x2))"
   ],
   "metadata": {
    "collapsed": false,
    "ExecuteTime": {
     "end_time": "2023-07-28T19:12:36.259189874Z",
     "start_time": "2023-07-28T19:12:35.842320440Z"
    }
   }
  },
  {
   "cell_type": "markdown",
   "source": [
    "#### Mode\n",
    "\n",
    "This is the most occurring value in a data set. It can be applied to non-numerical data. One useful situation is where the data has independent values.\n",
    "\n",
    "For example, in the outcomes of weighted die, coming up 6 doesn't mean it's likely to come up 5; so knowing it has a mode of 6 is more useful than a mean of 4.5."
   ],
   "metadata": {
    "collapsed": false
   }
  },
  {
   "cell_type": "code",
   "execution_count": 4,
   "outputs": [
    {
     "name": "stdout",
     "output_type": "stream",
     "text": [
      "One mode of x1: 2\n",
      "All of the modes of x1: [2, 5]\n"
     ]
    }
   ],
   "source": [
    "# scipy has a built-in mode function, but it returns exactly one value even if two values occur the same number of times, or if no value appears more than once\n",
    "print(\"One mode of x1:\", stats.mode(x1, keepdims=True)[0][0])\n",
    "\n",
    "def mode(l):\n",
    "    # rount the number of times each element appears in the list\n",
    "    counts = {}\n",
    "    for e in l:\n",
    "        if e in counts:\n",
    "            counts[e] += 1\n",
    "        else:\n",
    "            counts[e] = 1\n",
    "\n",
    "    # return the elements that appear the most times\n",
    "    maxcount = 0\n",
    "    modes = {}\n",
    "    for (key, value) in list(counts.items()):\n",
    "        if value > maxcount:\n",
    "            maxcount = value\n",
    "            modes = {key}\n",
    "        elif value == maxcount:\n",
    "            modes.add(key)\n",
    "\n",
    "    if maxcount > 1 or len(l) == 1:\n",
    "        return list(modes)\n",
    "    return 'No mode'\n",
    "\n",
    "print(\"All of the modes of x1:\", mode(x1))"
   ],
   "metadata": {
    "collapsed": false,
    "ExecuteTime": {
     "end_time": "2023-07-28T19:12:36.259405894Z",
     "start_time": "2023-07-28T19:12:35.842989240Z"
    }
   }
  },
  {
   "cell_type": "markdown",
   "source": [
    "For data that can't take on many different values, such as returns, there may not be values that appear more than once. We can bin values, like on a histogram, and find the mode of the data where EACH value is replaced with the name of its bin. That is, we find which bin elements fall into most often."
   ],
   "metadata": {
    "collapsed": false
   }
  },
  {
   "cell_type": "code",
   "execution_count": 5,
   "outputs": [
    {
     "name": "stdout",
     "output_type": "stream",
     "text": [
      "[*********************100%***********************]  1 of 1 completed\n",
      "Mode of returns: No mode\n",
      "Mode of bins: [(-0.0012498941365146066, 0.0011118170719960352)]\n"
     ]
    }
   ],
   "source": [
    "# get return data for an asset and compute the mode of the data set\n",
    "start = \"2014-01-01\"\n",
    "end = \"2015-01-01\"\n",
    "\n",
    "pricing = yf.download(\"SPY\", start, end)\n",
    "returns = pricing[\"Adj Close\"].pct_change()[1:]\n",
    "print(\"Mode of returns:\", mode(returns))\n",
    "\n",
    "# since all the returns are different, we use a frequency distribution to get an alternative mode. np.histogram returns the frequency distribution over the bins as well as the endpoints of the bins\n",
    "hist, bins = np.histogram(returns, 20) # breaks data into 20 bins\n",
    "maxfreq = max(hist) # find all the bins that are hit with frequency maxfreq, then print the intervals corresponding to them.\n",
    "print(\"Mode of bins:\", [(bins[i], bins[i+1]) for i, j in enumerate(hist) if j == maxfreq])"
   ],
   "metadata": {
    "collapsed": false,
    "ExecuteTime": {
     "end_time": "2023-07-28T19:12:36.589046425Z",
     "start_time": "2023-07-28T19:12:35.843691704Z"
    }
   }
  },
  {
   "cell_type": "markdown",
   "source": [
    "### Geometric Mean\n",
    "\n",
    "While the arithmetic mean averages using addition, the geometric mean uses multiplication:\n",
    "\n",
    "$$G = \\sqrt[n]{X_{1}, X_{2}, ...,X_{n}}$$\n",
    "\n",
    "For observations in which $X \\geq 0$ it can be rewritten as an arithmetic mean using logarithms, like so:\n",
    "\n",
    "$$\\ln{G} = \\frac{\\sum_{i=1}^{n} \\ln{X}_{i}}{n}$$\n",
    "\n",
    "The geometric mean is always less than or equal to the arithmetic mean (non-negative observations), with equality only when all the observations are the same."
   ],
   "metadata": {
    "collapsed": false
   }
  },
  {
   "cell_type": "code",
   "execution_count": 6,
   "outputs": [
    {
     "name": "stdout",
     "output_type": "stream",
     "text": [
      "Geometric mean of x1: 3.0941040249774403\n",
      "Geometric mean of x2: 4.552534587620071\n"
     ]
    }
   ],
   "source": [
    "# use scipy's gmean function to compute the geometric mean\n",
    "print(\"Geometric mean of x1:\", stats.gmean(x1))\n",
    "print(\"Geometric mean of x2:\", stats.gmean(x2))"
   ],
   "metadata": {
    "collapsed": false,
    "ExecuteTime": {
     "end_time": "2023-07-28T19:12:36.601852174Z",
     "start_time": "2023-07-28T19:12:36.367899651Z"
    }
   }
  },
  {
   "cell_type": "markdown",
   "source": [
    "What if we want to compute the geometric mean when we have negative observations? This is easy to solve with asset returns, because the values are at least $−1$. We can add $1$ to a return $R_{t}$ to get $1+R_{t}$, which is the ratio of the price of the asset for two consecutive periods (as opposed to percent change between prices). This will always be non-negative. So we can calculate the geometric mean return:\n",
    "\n",
    "$$R_{G} = \\sqrt[T]{(1+R_{1}) ... (1+R_{T})} - 1$$"
   ],
   "metadata": {
    "collapsed": false
   }
  },
  {
   "cell_type": "code",
   "execution_count": 7,
   "outputs": [
    {
     "name": "stdout",
     "output_type": "stream",
     "text": [
      "Geometric mean of returns: 0.0005417542794379226\n"
     ]
    }
   ],
   "source": [
    "# add 1 to every value in the returns array and then calculate R_G\n",
    "ratios = returns + np.ones(len(returns))\n",
    "R_G = stats.gmean(ratios) - 1\n",
    "print(\"Geometric mean of returns:\", R_G)"
   ],
   "metadata": {
    "collapsed": false,
    "ExecuteTime": {
     "end_time": "2023-07-28T19:12:36.602278206Z",
     "start_time": "2023-07-28T19:12:36.410387318Z"
    }
   }
  },
  {
   "cell_type": "markdown",
   "source": [
    "The geometric mean is defined so that if the RoR over the whole time period is constant and equal to $R_{G}$, the final price would be $R_{1}, \\ldots, R_{T}$."
   ],
   "metadata": {
    "collapsed": false
   }
  },
  {
   "cell_type": "code",
   "execution_count": 8,
   "outputs": [
    {
     "name": "stdout",
     "output_type": "stream",
     "text": [
      "[*********************100%***********************]  1 of 1 completed\n",
      "Initial price: 153.82882690429688\n",
      "Final price: 176.2289276123047\n",
      "Final price as computed with R_G: 176.22894509303327\n"
     ]
    }
   ],
   "source": [
    "start = \"2014-01-01\"\n",
    "end = \"2015-01-01\"\n",
    "\n",
    "pricing = yf.download(\"SPY\", start, end)\n",
    "returns = pricing[\"Adj Close\"].pct_change()[1:]\n",
    "\n",
    "T = len(returns)\n",
    "init_price = pricing[\"Adj Close\"][0]\n",
    "final_price = pricing[\"Adj Close\"][T]\n",
    "print('Initial price:', init_price)\n",
    "print('Final price:', final_price)\n",
    "print('Final price as computed with R_G:', init_price*(1 + R_G)**T)"
   ],
   "metadata": {
    "collapsed": false,
    "ExecuteTime": {
     "end_time": "2023-07-28T19:12:37.584333915Z",
     "start_time": "2023-07-28T19:12:36.410577636Z"
    }
   }
  },
  {
   "cell_type": "markdown",
   "source": [
    "### Harmonic Mean\n",
    "\n",
    "It's much less known than the previous two, it is defined as:\n",
    "\n",
    "$$H = \\frac{n}{\\sum_{i=1}^{n} \\frac{1}{X_{i}}}$$\n",
    "\n",
    "As with the geometric mean, we can rewrite it to look like an arithmetic mean. The reciprocal of the harmonic mean is the arithmetic mean of the reciprocals of the observations:\n",
    "\n",
    "$$\\frac{1}{H} = \\frac{\\sum_{i=1}^{n} \\frac{1}{X_{i}}}{n}$$\n",
    "\n",
    "The harmonic mean of non-negative numbers $X_{i}$ is always at most the geometric mean, and they're equal if all observations are equal."
   ],
   "metadata": {
    "collapsed": false
   }
  },
  {
   "cell_type": "code",
   "execution_count": 9,
   "outputs": [
    {
     "name": "stdout",
     "output_type": "stream",
     "text": [
      "Harmonic mean of x1: 2.5590251332825593\n",
      "Harmonic mean of x2: 2.869723656240511\n"
     ]
    }
   ],
   "source": [
    "print(\"Harmonic mean of x1:\", stats.hmean(x1))\n",
    "print(\"Harmonic mean of x2:\", stats.hmean(x2))"
   ],
   "metadata": {
    "collapsed": false,
    "ExecuteTime": {
     "end_time": "2023-07-28T19:12:37.659271379Z",
     "start_time": "2023-07-28T19:12:36.910467127Z"
    }
   }
  },
  {
   "cell_type": "markdown",
   "source": [
    "This should be used when the data can be phrased in terms of ratios. For example, when using dollar-cost averaging, a fixed amount is spent on shares at regular intervals. The higher the price, the fewer shares you buy. The average (arithmetic) they pay for the stock is the harmonic mean of the prices."
   ],
   "metadata": {
    "collapsed": false
   }
  },
  {
   "cell_type": "markdown",
   "source": [
    "## Point Estimates can be Deceiving\n",
    "\n",
    "Means, by nature, hide a lot of information since they average distributions into one number. Often 'point estimates' can disguise problems in the data. We should ensure that key info isn't being lost in the process. And we should rarely use a mean without referring to a measure of spread."
   ],
   "metadata": {
    "collapsed": false
   }
  },
  {
   "cell_type": "markdown",
   "source": [
    "## Underlying Distributions can be Wrong\n",
    "\n",
    "Even when using the right metrics for mean and spread, they can make no sense if the distribution is not what we expect. For example, using standard deviation to measure frequency of an event will assume normality. Try not to assume distributions, and if we do, we should check the data fits the distribution we are assuming."
   ],
   "metadata": {
    "collapsed": false
   }
  }
 ],
 "metadata": {
  "kernelspec": {
   "display_name": "Python 3",
   "language": "python",
   "name": "python3"
  },
  "language_info": {
   "codemirror_mode": {
    "name": "ipython",
    "version": 2
   },
   "file_extension": ".py",
   "mimetype": "text/x-python",
   "name": "python",
   "nbconvert_exporter": "python",
   "pygments_lexer": "ipython2",
   "version": "2.7.6"
  }
 },
 "nbformat": 4,
 "nbformat_minor": 0
}

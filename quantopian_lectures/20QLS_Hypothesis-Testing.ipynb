{
 "cells": [
  {
   "cell_type": "markdown",
   "source": [
    "# 20. QLS - Hypothesis Testing\n",
    "\n",
    "Statistical inference, making predictions about a large group based on smaller samples, is broken down into two segments: **estimation**, and **hypothesis testing**. Estimation provides values for metrics such as mean and variance, with a given confidence interval. A confidence interval provides a region in which the true value of the estimated parameter can be found. More information can be found on [this](./quantopian_lectures/21QLS_Confidence-Intervals.ipynb) lecture.\n",
    "\n",
    "For example, the estimate mean of a sample is 100, with a confidence interval of 90%; meaning 110 at a 95% confidence interval. This isn't to say that the true population mean is within 90 and 110 with a 95% probability, as the true mean is a fixed value, and the probability is 100% or 0%. Instead, what this means is that over many computations at a 95% confidence interval (assuming underlying assumptions about distributions hold) the population mean will be in the interval 95% of the time.\n",
    "\n",
    "This portrays an idea of the specific characteristics that an overall population may exhibit, given a sample. Hypothesis testing provides a different focus, detailing a framework for statistical testing of hypothesized values. By making an assertion of what a value should be, a testable hypothesis is created.\n",
    "\n",
    "Statistical tests are designed such that if all the pre-requisite conditions are met, the right answer about the data should be achieved a certain percentage of time. When a hypothesis is accepted as true based on a test, that does not mean it's definitely true. It just means the probability of being **wrong** is known."
   ],
   "metadata": {
    "collapsed": false
   },
   "id": "ae0fecbf1cfdec52"
  },
  {
   "cell_type": "markdown",
   "source": [
    "## The Null and Alternative Hypothesis\n",
    "\n",
    "The first thing to be introduced is the null hypothesis, written as $H_0$. The null hypothesis is the default case, generally reflecting the common conception. The alternative hypothesis is the one to be tested."
   ],
   "metadata": {
    "collapsed": false
   },
   "id": "338a947a8465bdd0"
  },
  {
   "cell_type": "markdown",
   "source": [
    "### Examples\n",
    "\n",
    "The alternative hypothesis, $H_A$, is that more than 10 pairs of shoes are owned. The null hypothesis, $H_0$, is that more than 10 pairs of shoes are **not** owned.\n",
    "The alternative hypothesis, $H_A$, is that eating pizza is related to obesity. The null hypothesis, $H_0$, is that it's not.\n",
    "The alternative hypothesis, $H_A$, is that Microsoft's mean returns are greater than 0. The null hypothesis, $H_0$, is that they are less than or equal to 0."
   ],
   "metadata": {
    "collapsed": false
   },
   "id": "abee2634c6a8c115"
  },
  {
   "cell_type": "markdown",
   "source": [
    "### Difficulty of Testing\n",
    "\n",
    "Some hypotheses are easier to test that others. For instance, the alternative hypothesis, \"more than 10 pairs of shoes are owned,\" and the accompanying null hypothesis that they are not, is easily tested by counting pairs. However, a perfect answer might not be achieved all the time in this case, since measurement error might be present in the counting.\n",
    "\n",
    "On the other hand, the hypothesis, \"the number of insect species is greater than the number of stars in the universe,\" would be more difficult to test and requires lots of data gathering."
   ],
   "metadata": {
    "collapsed": false
   },
   "id": "5dbea4b4fc04beea"
  },
  {
   "cell_type": "markdown",
   "source": [
    "### Hypotheses Must be Testable\n",
    "\n",
    "A hypothesis can't be vague, otherwise how is it tested. E.g. \"momentum trading is a good way to make money,\" is not really testable. What does 'good' mean? What type of momentum trading is being discussed? Hypotheses should be specific and the type of test needed should be known."
   ],
   "metadata": {
    "collapsed": false
   },
   "id": "7a97a3137597bfa5"
  },
  {
   "cell_type": "code",
   "execution_count": 1,
   "outputs": [],
   "source": [
    "import numpy as np\n",
    "import pandas as pd\n",
    "import seaborn as sb"
   ],
   "metadata": {
    "collapsed": false,
    "ExecuteTime": {
     "end_time": "2023-08-07T20:48:35.221597401Z",
     "start_time": "2023-08-07T20:48:35.206906427Z"
    }
   },
   "id": "994ba40f18830b80"
  },
  {
   "cell_type": "markdown",
   "source": [
    "## How to Perform Hypothesis Testing\n",
    "\n",
    "These are the main steps in hypothesis testing:\n",
    "1. State the hypothesis and the alternative to the hypothesis.\n",
    "2. Identify the appropriate test statistic and its distribution; ensure that any assumptions about the data are met (stationarity, normality, etc.)\n",
    "3. Specify the significance level, $\\alpha$.\n",
    "4. From $\\alpha$ and the distribution, compute the 'critical value'.\n",
    "5. Collect the data and calculate the test statistic.\n",
    "6. Compare test statistic with critical value and decide whether to accept or reject the hypothesis.\n",
    "\n",
    "First, state the hypothesis to be tested. This is done by identifying a **null hypothesis**, and an **alternative hypothesis**. The null hypothesis, $H_0$, is the one to test, while the alternative hypothesis, \n",
    "$H_A$, is the accepted hypothesis in the case where $H_0$ is rejected.\n",
    "\n",
    "To test whether the mean return of Microsoft's stock is positive: the parameter that is being tested is denoted by $\\theta$, and the proposed value of the parameter is denoted by $\\theta_0$, which in this case is equal to $0$. So $H_0 = \\theta$, that the returns are negative, and $H_A$ is $\\theta \\neq \\theta_0$. Including this formation, there are three possible ways to formulate the null and alternative hypotheses:\n",
    "\n",
    "1. $H_0: \\theta = \\theta_0$ versus $H_A: \\theta \\neq \\theta_0$ (A \"not equal to\" alternative hypothesis).\n",
    "2. $H_0: \\theta \\leq \\theta_0$ versus $H_A: \\theta > \\theta_0$ (A \"greater than\" alternative hypothesis).\n",
    "3. $H_0: \\theta \\geq \\theta_0$ versus $H_A: \\theta < \\theta_0$ (A \"less than\" alternative hypothesis).\n",
    "\n",
    "In this case, where the returns of MSFT are being tested, $\\theta = \\mu_{\\text{MSFT}}$, representing the stock's mean returns. Since what's being tested is whether the returns are positive or negative, $\\theta_0 = 0$. The example follows the first formulation of a hypothesis test. This is a **two-tailed hypothesis test**. The second and third formulations are examples of a **one-tailed hypothesis test**. With a one-tailed test, the null is rejected in favour of the alternate ONLY if the data indicates that $\\theta_0 < \\theta_n < \\theta_0$. Meanwhile, a two-tailed test rejects the null in favour of the alternate if the data indicates that $\\theta$ is EITHER greater than, or less than $\\theta_0$.\n",
    "\n",
    "The hypothesis, in qualitative terms, would look like:\n",
    "\n",
    "\\begin{align}\n",
    "H_0 &:& \\text{The mean return on MSFT stock is $0$}\\\\\n",
    "H_A &:& \\text{The mean return on MSFT stock is not $0$}\n",
    "\\end{align}"
   ],
   "metadata": {
    "collapsed": false
   },
   "id": "7e120cd8c9c8c939"
  },
  {
   "cell_type": "code",
   "execution_count": null,
   "outputs": [],
   "source": [],
   "metadata": {
    "collapsed": false
   },
   "id": "1a8aba2ee79a582e"
  }
 ],
 "metadata": {
  "kernelspec": {
   "display_name": "Python 3",
   "language": "python",
   "name": "python3"
  },
  "language_info": {
   "codemirror_mode": {
    "name": "ipython",
    "version": 2
   },
   "file_extension": ".py",
   "mimetype": "text/x-python",
   "name": "python",
   "nbconvert_exporter": "python",
   "pygments_lexer": "ipython2",
   "version": "2.7.6"
  }
 },
 "nbformat": 4,
 "nbformat_minor": 5
}
